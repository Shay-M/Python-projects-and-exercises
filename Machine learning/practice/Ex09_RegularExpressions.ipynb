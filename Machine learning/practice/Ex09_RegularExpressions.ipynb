{
 "cells": [
  {
   "cell_type": "markdown",
   "metadata": {
    "id": "yDyWXULT2rTb"
   },
   "source": [
    "<a id=\"home\"></a>\n",
    "# Regular Expressions - Basics\n",
    "\n",
    "| Section | Section-name | Section | Section-name | Section | Section-name | \n",
    "| :- | :- | :- | :- | :- | :- | \n",
    "| 1. | [the re Module](#1) |  1.a. | [Simple (syntax) Examples](#1a) |  1.b. | [the 'search' function](#1b) | \n",
    "| 1.c. | [the 'findall' function](#1c) | 1.d. | [the 'split' function](#1d) | \n",
    "| 2. | [Character sets and ranges](#2) | 3. | [Escape codes](#3) |  4. | [Or expression](#4) | \n",
    "| 5. | [Useful tool](#5) | 6. | [Optional Exercises](#6) | \n",
    "\n",
    "**After you are done**<br/>\n",
    "You should continue with to the next regular expression notebook:<br/>\n",
    "[regular expressions - advanced notebook](Ex09_RegularExpressions_adv.ipynb)"
   ]
  },
  {
   "cell_type": "markdown",
   "metadata": {},
   "source": [
    "#### About this notebook\n",
    "In this notebook we will practice the following items:\n",
    "+ Get familiar with Regular Expressions\n",
    "- Basic use of main `re` module functions: `search`,`findall`,`split`,`sub` and `match` object.\n",
    "- Practice basic regular expression syntax\n",
    "- Get familiar with character sets and character ranges ([] operator)\n",
    "- Get familiar with special escape codes (such as `\\w`,`\\d`, etc)\n",
    "- Or expression\n",
    "- Useful online regexp debugger"
   ]
  },
  {
   "cell_type": "markdown",
   "metadata": {
    "id": "BCZzJJm52rTb"
   },
   "source": [
    "In this part of our exercise we'll learn about regular expressions. <br/>\n",
    "Regular expressions are text matching patterns described with a formal syntax. <br/>\n",
    "You'll often hear regular expressions referred to as 'regex' or 'regexp' in conversation. <br/>\n",
    "They are very useful to find (and replace) text, to extract structured information such as <br/>\n",
    "e-mails, phone numbers, etc., or for cleaning up text that was entered by humans, and many other applications. \n",
    "\n",
    "In Python, regular expressions are available as part of the [`re`](https://docs.python.org/3/library/re.html#module-re) module. <br/>\n",
    "There are various [good](https://docs.python.org/3/howto/regex.html) [tutorials](https://developers.google.com/edu/python/regular-expressions) [available](https://github.com/tesla809/intro-to-python-jupyter-notebooks/blob/master/47-Regular%20Expressions.ipynb) on which this document is partially based. "
   ]
  },
  {
   "cell_type": "markdown",
   "metadata": {
    "id": "DTiugotr2rTc"
   },
   "source": [
    "[Go to the beginning of the notebook](#home)\n",
    "<a id=\"1\"></a>\n",
    "### 1. the `re` Module\n",
    "\n",
    "In order to use the `re` module in python, one need first to import it. <br/>\n",
    "As mentioned in the lecture, there are 3 main use cases:\n",
    "1. Find - mainly using `search` and `findall` functions.\n",
    "2. Replace - mainly using the `sub` function.\n",
    "3. Split -  using the `split` function.\n",
    "4. Match object - this is not a use case, but an object returned mainly by \"find\" functions and can be used for further text manipulation.\n",
    "\n",
    "\n",
    "The basic syntax to search for a match in a string is this: \n",
    "\n",
    "```python\n",
    "match = re.search(pattern, text)\n",
    "```\n",
    "\n",
    "Here, `pattern` is the regular expression, `text` is the text that the regular expression is applied to. <br/>\n",
    "Match holds the search result that matches the string in an object.\n",
    "\n",
    "[`search()`](https://docs.python.org/3/library/re.html#re.search) returns only the first occurrence of a match, in contrast, [`findall()`](https://docs.python.org/3/library/re.html#re.findall) returns all matches.\n",
    "\n",
    "Another useful function is [`split()`](https://docs.python.org/3/library/re.html#re.split), which splits a string based on a regex pattern – we'll use all of these functions and others where appropriate. \n",
    "\n",
    "Mostly, we'll use search to learn about the syntax, but sometimes we'll use split instead of search to explain a pattern. <br/>\n",
    "There are other functions which we'll use later."
   ]
  },
  {
   "cell_type": "markdown",
   "metadata": {
    "id": "tY7Cj85p2rTc"
   },
   "source": [
    "[Go to the beginning of the notebook](#home)\n",
    "<a id=\"1a\"></a>\n",
    "#### 1.a. Simple (syntax) Examples\n",
    "\n",
    "We'll use a regular expression to demonstrate the syntax and use case: \n",
    "```python\n",
    "'name: \\w\\w\\w\\w'\n",
    "```\n",
    "\n",
    "To extract the name of people that submitted inquiries to the forum. <br/>\n",
    "The way this pattern works, it matches the substring **'name:'** followed by a four letter word, encoded by **'\\w\\w\\w\\w'**. <br/>\n",
    "Let's start with the import.."
   ]
  },
  {
   "cell_type": "code",
   "execution_count": null,
   "metadata": {
    "id": "n5iSbQfF2rTd"
   },
   "outputs": [],
   "source": [
    "import re\n",
    "\n",
    "# show several prints in one cell. This will allow us to condence every trick in one cell.\n",
    "from IPython.core.interactiveshell import InteractiveShell\n",
    "InteractiveShell.ast_node_interactivity = \"all\""
   ]
  },
  {
   "cell_type": "markdown",
   "metadata": {
    "id": "VILaYnEW2rTd"
   },
   "source": [
    "Below you can find a snippet from the comments we got into the course's forum. <br/>\n",
    "We'll save it into a string variable"
   ]
  },
  {
   "cell_type": "code",
   "execution_count": null,
   "metadata": {
    "id": "6-KavYhj2rTd"
   },
   "outputs": [],
   "source": [
    "txt=\"\"\"\n",
    "\n",
    "name: Dina Ivry\n",
    "email: dimai@gmail.com\n",
    "time: 2020-11-02 11:32:11\n",
    "phone: +972-3-52-3434233\n",
    "city: Tel-aviv\n",
    "title: knn  \n",
    "content: can you explain what does the k hyper-parameter mean???\n",
    "\n",
    "==============\n",
    "name: Joseph Katzir\n",
    "email: joek@myemail.ac.il\n",
    "time: 2020-12-20 13:34:02\n",
    "phone: (054) 5444443\n",
    "city: Tel aviv\n",
    "title: what a great lecture   \n",
    "content: avinoam this was one of your best\n",
    "\n",
    "=============\n",
    "\n",
    "\"\"\"\n",
    "txt"
   ]
  },
  {
   "cell_type": "markdown",
   "metadata": {
    "id": "8a6SsXzW2rTe"
   },
   "source": [
    "[Go to the beginning of the notebook](#home)\n",
    "<a id=\"1b\"></a>\n",
    "#### 1.b.  the `search` function\n",
    "\n",
    "One of the most common uses for the re module is for finding patterns in text. <br/>\n",
    "Let's do a quick example of using the search method in the re module to find some text. <br/>\n",
    "In this case, by finding the first names of the people that wrote in the forum, based on the pattern we mentioned before."
   ]
  },
  {
   "cell_type": "code",
   "execution_count": null,
   "metadata": {
    "id": "MRWlwE_l2rTe",
    "outputId": "032e49f7-872e-489a-9b75-4490fdbf9a4c"
   },
   "outputs": [],
   "source": [
    "good_pattern=\"name: \\w\\w\\w\\w\"\n",
    "no_match_pattern=\"first name: \\w\\w\\w\\w\"\n",
    "\n",
    "#Check for match on first pattern\n",
    "if re.search(good_pattern,  txt):\n",
    "    print ('Match was found for pattern:',good_pattern)\n",
    "else:\n",
    "    print ('No Match was found for pattern:',good_pattern)\n",
    "\n",
    "#Check for match on second pattern\n",
    "if re.search(no_match_pattern,  txt):\n",
    "    print ('Match was found for pattern:',no_match_pattern)\n",
    "else:\n",
    "    print ('No Match was found for pattern:',no_match_pattern)\n"
   ]
  },
  {
   "cell_type": "markdown",
   "metadata": {
    "id": "JXn99mOg2rTf"
   },
   "source": [
    "This is nice.. we've seen that `re.search()` will take the pattern, scan the text, and return if it finds a match or not. <br/>\n",
    "But how can we get the actual text it matched?\n",
    "\n",
    "In order to understand this, we will introduce the `Match` object. When the function `search` is called, <br/>\n",
    "it returns a `Match` object. If no pattern is found,  `None` is returned. <br/>\n",
    "To give a clearer picture of this match object, check out the cell below:"
   ]
  },
  {
   "cell_type": "code",
   "execution_count": null,
   "metadata": {
    "id": "WEMVVj-d2rTf",
    "outputId": "3931d323-0b67-46c5-d89e-5235f470f102"
   },
   "outputs": [],
   "source": [
    "match = re.search(good_pattern,  txt)\n",
    "\n",
    "type(match)"
   ]
  },
  {
   "cell_type": "markdown",
   "metadata": {
    "id": "7_mIs2dL2rTg"
   },
   "source": [
    "This Match object returned by the search() method is more than just a Boolean or None, <br/>\n",
    "it contains information about the match, including the original input string, <br/>\n",
    "the regular expression that was used, and the location of the match. <br/>\n",
    "\n",
    "Let's see the methods we can use on the match object:"
   ]
  },
  {
   "cell_type": "code",
   "execution_count": null,
   "metadata": {
    "id": "AtX70jxP2rTg",
    "outputId": "a91a42e1-7322-4dbb-bf2d-caf149bd9344"
   },
   "outputs": [],
   "source": [
    "# Show start of match\n",
    "match.start()"
   ]
  },
  {
   "cell_type": "code",
   "execution_count": null,
   "metadata": {
    "id": "dGR32SK42rTg",
    "outputId": "d44309fa-3171-48df-8ba8-cb6d0e4f693f"
   },
   "outputs": [],
   "source": [
    "# Show end\n",
    "match.end()"
   ]
  },
  {
   "cell_type": "code",
   "execution_count": null,
   "metadata": {
    "id": "hCDlbfYf2rTh",
    "outputId": "104e2811-04c4-40bb-b2fe-735af5f4d3d7"
   },
   "outputs": [],
   "source": [
    "# show the text that was found\n",
    "match.group(0)"
   ]
  },
  {
   "cell_type": "markdown",
   "metadata": {
    "id": "-89nRRG62rTh"
   },
   "source": [
    "[Go to the beginning of the notebook](#home)\n",
    "<a id=\"1c\"></a>\n",
    "#### 1.c.  Finding all instances of a pattern - the `findall` function\n",
    "\n",
    "You can use `re.findall()` to find all the instances of a pattern in a string. <br/>\n",
    "\n",
    "For example, if we want to apply the previous pattern (`good_pattern`) on all the posts in the forum:"
   ]
  },
  {
   "cell_type": "code",
   "execution_count": null,
   "metadata": {},
   "outputs": [],
   "source": [
    "txt"
   ]
  },
  {
   "cell_type": "code",
   "execution_count": null,
   "metadata": {
    "id": "BNtjjfF42rTh",
    "outputId": "15cff060-3f59-46bf-cd28-3c0ef06a1271"
   },
   "outputs": [],
   "source": [
    "# Returns a list of all matches\n",
    "re.findall(good_pattern,txt)"
   ]
  },
  {
   "cell_type": "markdown",
   "metadata": {
    "id": "7K6mPnFz2rTh"
   },
   "source": [
    "As you can see, it extracted both names from the forum posts. <br/>\n",
    "\n",
    "In addition, as we mentioned in the lecture, while the first name is extarcted properly,<br/>\n",
    "in the second name only the first 4 characters were extracted. We will see later how to fix it."
   ]
  },
  {
   "cell_type": "markdown",
   "metadata": {
    "id": "_VJxm1kW2rTi"
   },
   "source": [
    "[Go to the beginning of the notebook](#home)\n",
    "<a id=\"1d\"></a>\n",
    "#### 1.d.  the  `split` function\n",
    "Split is another useful function in the `re` module. Let's see how we can split with the re syntax. <br/>\n",
    "\n",
    "This should look similar to how you used the split() method with strings, <br/>\n",
    "however you can see that instead of simple patterns, you can use the unique regule-expression syntax for more powerfull split. <br/>\n",
    "\n",
    "We will start with a simple example:"
   ]
  },
  {
   "cell_type": "code",
   "execution_count": null,
   "metadata": {
    "id": "nsHnD3rC2rTi",
    "outputId": "182b4689-49cf-4eb6-86d2-d9a86e98c280"
   },
   "outputs": [],
   "source": [
    "email=\"myaddress@domain.com\"\n",
    "\n",
    "# Term to split on\n",
    "split_term = '@'\n",
    "\n",
    "# Split the phrase\n",
    "re.split(split_term,email)"
   ]
  },
  {
   "cell_type": "markdown",
   "metadata": {
    "id": "CuGdbIgr2rTi"
   },
   "source": [
    "This splits the email exactly to the alias and its domain. <br/>\n",
    "Let's take a look on a more sophisticated example. Consider email aliases. <br/>\n",
    "They can be in the form of \"first.last\" or \"first-last\" or \"first_last\". <br/>\n",
    "\n",
    "Your task is to split them into first and last. \n",
    "\n",
    "For that we'll make use of `character sets` and split function (more on `character ranges` in next section)"
   ]
  },
  {
   "cell_type": "code",
   "execution_count": null,
   "metadata": {
    "id": "PaK8FJFA2rTj",
    "outputId": "b8c063ab-e160-4a2e-f93b-7d1794eb73ad"
   },
   "outputs": [],
   "source": [
    "names=[\"first last\",\"first_last\",\"first.last\",\"first-last\"]\n",
    "char_range=\"[ ._-]\"\n",
    "\n",
    "for name in names:\n",
    "    print('splitting \"{}\" into:'.format(name),re.split(char_range,name))"
   ]
  },
  {
   "cell_type": "markdown",
   "metadata": {
    "id": "XGI2IeIn2rTj"
   },
   "source": [
    "[Go to the beginning of the notebook](#home)\n",
    "<a id=\"2\"></a>\n",
    "### 2. Character sets and ranges\n",
    "\n",
    "Character sets are used when you wish to match any one of a group of characters at a point in the input. <br/>\n",
    "Brackets are used to construct character set inputs. <br/>\n",
    "\n",
    "For example: the input **[ab]** searches for occurrences of either a or b.<br/>\n",
    "As character sets grow larger, typing every character that should (or should not) match could become very tedious. <br/>\n",
    "\n",
    "A more compact format using character ranges lets you define a character set to include all of the contiguous characters between a start and stop point. \n",
    "**The format used is [start-end]**.\n",
    "\n",
    "Common use cases are to search for a specific range of letters in the alphabet, <br/>\n",
    "such [a-f] would return matches with any instance of letters between a and f.\n",
    "\n",
    "Let's walk through some examples:"
   ]
  },
  {
   "cell_type": "code",
   "execution_count": null,
   "metadata": {
    "id": "rCOEr6xB2rTj",
    "outputId": "dcef4d73-018d-4901-e2b0-883fba1ec3a7"
   },
   "outputs": [],
   "source": [
    "# find all 4 digit words that start with a capital letter\n",
    "cap_pattern=\"[A-Z]\\w\\w\\w\"\n",
    "\n",
    "# Returns a list of all matches\n",
    "re.findall(cap_pattern,txt)"
   ]
  },
  {
   "cell_type": "code",
   "execution_count": null,
   "metadata": {
    "id": "i2dUA0sz2rTk",
    "outputId": "12723ca8-92e5-44f0-fce1-f8ce5fed1529"
   },
   "outputs": [],
   "source": [
    "# find all dates in format yyyy-mm-dd\n",
    "date_pattern=\"[0-9][0-9][0-9][0-9]-[0-9][0-9]-[0-9][0-9]\"\n",
    "\n",
    "# Returns a list of all matches\n",
    "re.findall(date_pattern,txt)"
   ]
  },
  {
   "cell_type": "markdown",
   "metadata": {
    "id": "88C6b_eZ2rTl"
   },
   "source": [
    "As you can see this is very powerful! However it is a bit tidious to write, for that we introduce the escape codes:"
   ]
  },
  {
   "cell_type": "markdown",
   "metadata": {
    "id": "2rquRcrR2rTl"
   },
   "source": [
    "[Go to the beginning of the notebook](#home)\n",
    "<a id=\"3\"></a>\n",
    "### 3. Escape codes\n",
    "You can use special escape codes to find specific types of patterns in your data, such as digits, non-digits,whitespace, and more.\n",
    "\n",
    "For example:"
   ]
  },
  {
   "cell_type": "markdown",
   "metadata": {
    "id": "M7TuWDXE2rTl"
   },
   "source": [
    "<table class=\"docutils\" border=\"1\">\n",
    "\n",
    "<thead valign=\"bottom\">\n",
    "<tr class=\"row-odd\">\n",
    "<th class=\"head\">Code</th>\n",
    "<th class=\"head\">Meaning</th>\n",
    "</tr>\n",
    "</thead>\n",
    "<tbody valign=\"top\">\n",
    "<tr class=\"row-even\">\n",
    "<td><tt class=\"docutils literal\"><span class=\"pre\">\\d</span></tt></td>\n",
    "<td>a digit</td>\n",
    "</tr>\n",
    "<tr class=\"row-odd\">\n",
    "<td><tt class=\"docutils literal\"><span class=\"pre\">\\D</span></tt></td>\n",
    "<td>a non-digit</td>\n",
    "</tr>\n",
    "<tr class=\"row-even\">\n",
    "<td><tt class=\"docutils literal\"><span class=\"pre\">\\s</span></tt></td>\n",
    "<td>whitespace (tab, space, newline, etc.)</td>\n",
    "</tr>\n",
    "<tr class=\"row-odd\">\n",
    "<td><tt class=\"docutils literal\"><span class=\"pre\">\\S</span></tt></td>\n",
    "<td>non-whitespace</td>\n",
    "</tr>\n",
    "<tr class=\"row-even\">\n",
    "<td><tt class=\"docutils literal\"><span class=\"pre\">\\w</span></tt></td>\n",
    "<td>alphanumeric</td>\n",
    "</tr>\n",
    "<tr class=\"row-odd\">\n",
    "<td><tt class=\"docutils literal\"><span class=\"pre\">\\W</span></tt></td>\n",
    "<td>non-alphanumeric</td>\n",
    "</tr>\n",
    "</tbody>\n",
    "</table>"
   ]
  },
  {
   "cell_type": "markdown",
   "metadata": {
    "id": "IyCVv9bt2rTl"
   },
   "source": [
    "Escapes are indicated by prefixing the character with a backslash (\\\\). <br/>\n",
    "Unfortunately, a backslash must itself be escaped in normal Python strings, and that results in expressions that are difficult to read. <br/>\n",
    "\n",
    "Using raw strings, created by prefixing the literal value with **r**, for creating regular expressions eliminates this problem and maintains readability. \n",
    "\n",
    "Let's take a fresh look on the previous pattern of finding date expressions:"
   ]
  },
  {
   "cell_type": "code",
   "execution_count": null,
   "metadata": {
    "id": "hD-AAzTu2rTm",
    "outputId": "432ff152-e7e2-4a08-e332-c2f0b7a873b1"
   },
   "outputs": [],
   "source": [
    "# find all dates in format yyyy-mm-dd\n",
    "date_pattern=r'\\d\\d\\d\\d-\\d\\d-\\d\\d'\n",
    "\n",
    "# Returns a list of all matches\n",
    "re.findall(date_pattern,txt)"
   ]
  },
  {
   "cell_type": "markdown",
   "metadata": {
    "id": "19-y6Ymu2rTm"
   },
   "source": [
    "Sometimes the use of **r** to escape a backslash is probably one of the things <br/>\n",
    "that block someone who is not familiar with regex in Python from being able to read regex code at first. <br/>\n",
    "\n",
    "Hopefully after seeing these examples this syntax will become clear. "
   ]
  },
  {
   "cell_type": "code",
   "execution_count": null,
   "metadata": {
    "id": "2nP8B-TS2rTm",
    "outputId": "98be977d-bc60-4835-d23c-c892e1a003f3"
   },
   "outputs": [],
   "source": [
    "txt2=r\"I will eat 1\\2\\3 oranges\"\n",
    "\n",
    "# Returns the number of oranges I will each\n",
    "eat_pattern=r\"\\d\\\\\\d\\\\\\d\"\n",
    "\n",
    "\n",
    "re.findall(eat_pattern,txt2)"
   ]
  },
  {
   "cell_type": "markdown",
   "metadata": {
    "id": "9QVGUldp2rTn"
   },
   "source": [
    "[Go to the beginning of the notebook](#home)\n",
    "<a id=\"4\"></a>\n",
    "### 4. Or expression\n",
    "\n",
    "We can use the pipe `|` to define an or between any regular expression:"
   ]
  },
  {
   "cell_type": "code",
   "execution_count": null,
   "metadata": {
    "id": "34M2-HZ82rTn",
    "outputId": "4a3b9dec-d46a-4a27-b67e-6e03e354f4f5"
   },
   "outputs": [],
   "source": [
    "weekdays = \"We could meet Monday or Wednesday\"\n",
    "pattern = \"Monday|Tuesday|Wednesday|Thursday|Friday|Saturday|Sunday\"\n",
    "re.findall(pattern , weekdays)"
   ]
  },
  {
   "cell_type": "markdown",
   "metadata": {
    "id": "fLFfPVUt2rTn"
   },
   "source": [
    "[Go to the beginning of the notebook](#home)\n",
    "<a id=\"5\"></a>\n",
    "### 5. Useful tool\n",
    "In some cases, one is looking for a RefExp debugger. <br/>\n",
    "It's not that easy, but [this](https://regex101.com/) can be useful in some of those cases."
   ]
  },
  {
   "cell_type": "markdown",
   "metadata": {
    "id": "AvfaI-R92rTn"
   },
   "source": [
    "[Go to the beginning of the notebook](#home)\n",
    "<a id=\"6\"></a>\n",
    "### 6. Optional Exercises:\n",
    "Optionally sharpen your skills with [regular expression self exercises notebook](Ex09-RegularExpression-Exercises.ipynb).<br/>\n",
    "The following exercises are relevant for now:\n",
    "* Exercise 1\n",
    "* Exercise 2\n",
    "\n",
    "**After you are done**<br/>\n",
    "You should continue with to the next regular expression notebook:<br/>\n",
    "[regular expressions - advanced notebook](Ex09_RegularExpressions_adv.ipynb)"
   ]
  }
 ],
 "metadata": {
  "anaconda-cloud": {},
  "celltoolbar": "Slideshow",
  "colab": {
   "collapsed_sections": [],
   "name": "L10_NB01_REGEX_1.ipynb",
   "provenance": []
  },
  "kernelspec": {
   "display_name": "Python 3",
   "language": "python",
   "name": "python3"
  },
  "language_info": {
   "codemirror_mode": {
    "name": "ipython",
    "version": 3
   },
   "file_extension": ".py",
   "mimetype": "text/x-python",
   "name": "python",
   "nbconvert_exporter": "python",
   "pygments_lexer": "ipython3",
   "version": "3.8.8"
  },
  "toc": {
   "base_numbering": 1,
   "nav_menu": {},
   "number_sections": true,
   "sideBar": true,
   "skip_h1_title": false,
   "title_cell": "Table of Contents",
   "title_sidebar": "Contents",
   "toc_cell": false,
   "toc_position": {
    "height": "calc(100% - 180px)",
    "left": "10px",
    "top": "150px",
    "width": "326.95px"
   },
   "toc_section_display": true,
   "toc_window_display": true
  }
 },
 "nbformat": 4,
 "nbformat_minor": 1
}
