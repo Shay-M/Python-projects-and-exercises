{
 "cells": [
  {
   "cell_type": "markdown",
   "metadata": {
    "_cell_guid": "88e8ec6d-76e5-5f12-d9a6-2b40017a2b99",
    "slideshow": {
     "slide_type": "slide"
    }
   },
   "source": [
    "# Exercise 3 - KNN \n",
    "\n",
    "This exercise will include:\n",
    "* knn flow implementation\n",
    "* some additional python and data manipulation assistance tools\n",
    "* starting and reviewing the next assignment\n",
    "\n",
    "These visualizations and their code can be found in Sebastian Raschka's book, Python Machine Learning.\n"
   ]
  },
  {
   "cell_type": "code",
   "execution_count": 1,
   "metadata": {
    "_cell_guid": "6443d6db-6440-5d93-d37c-4fde4c428ca5",
    "slideshow": {
     "slide_type": "slide"
    }
   },
   "outputs": [
    {
     "name": "stdout",
     "output_type": "stream",
     "text": [
      "Populating the interactive namespace from numpy and matplotlib\n"
     ]
    }
   ],
   "source": [
    "\n",
    "# Import data and modules\n",
    "import pandas as pd\n",
    "import numpy as np\n",
    "from sklearn import datasets\n",
    "%pylab inline\n",
    "pylab.rcParams['figure.figsize'] = (10, 6)"
   ]
  },
  {
   "cell_type": "code",
   "execution_count": 2,
   "metadata": {
    "slideshow": {
     "slide_type": "subslide"
    }
   },
   "outputs": [],
   "source": [
    "# LOADING THE IRIS DATA\n",
    "iris = datasets.load_iris()\n",
    "\n",
    "# We'll use the petal length and width only for this analysis\n",
    "X = iris.data[:, [2, 3]]\n",
    "y = iris.target\n"
   ]
  },
  {
   "cell_type": "code",
   "execution_count": 3,
   "metadata": {
    "slideshow": {
     "slide_type": "subslide"
    }
   },
   "outputs": [
    {
     "name": "stdout",
     "output_type": "stream",
     "text": [
      "   petal length (cm)  petal width (cm)\n",
      "0                1.4               0.2\n",
      "1                1.4               0.2\n",
      "2                1.3               0.2\n",
      "3                1.5               0.2\n",
      "4                1.4               0.2\n",
      "\n",
      "The unique labels in this data are [0 1 2]\n"
     ]
    }
   ],
   "source": [
    "# Place the iris data into a pandas dataframe\n",
    "iris_df = pd.DataFrame(iris.data[:, [2, 3]], columns=iris.feature_names[2:])\n",
    "\n",
    "# View the first 5 rows of the data\n",
    "print(iris_df.head())\n",
    "\n",
    "# Print the unique labels of the dataset\n",
    "print('\\n' + 'The unique labels in this data are ' + str(np.unique(y)))"
   ]
  },
  {
   "cell_type": "markdown",
   "metadata": {
    "slideshow": {
     "slide_type": "slide"
    }
   },
   "source": [
    "## Some data manipulation:"
   ]
  },
  {
   "cell_type": "code",
   "execution_count": 6,
   "metadata": {
    "slideshow": {
     "slide_type": "subslide"
    }
   },
   "outputs": [
    {
     "name": "stdout",
     "output_type": "stream",
     "text": [
      "freq of abs(pental_length^2-pental_width): 1.7599999999999998\n",
      "freq of abs(pental_length^2-pental_width): 1.7599999999999998\n",
      "sqrt(sum(abs(pental_length^2-pental_width))): 49.02244383953129\n"
     ]
    },
    {
     "data": {
      "text/html": [
       "<div>\n",
       "<style scoped>\n",
       "    .dataframe tbody tr th:only-of-type {\n",
       "        vertical-align: middle;\n",
       "    }\n",
       "\n",
       "    .dataframe tbody tr th {\n",
       "        vertical-align: top;\n",
       "    }\n",
       "\n",
       "    .dataframe thead th {\n",
       "        text-align: right;\n",
       "    }\n",
       "</style>\n",
       "<table border=\"1\" class=\"dataframe\">\n",
       "  <thead>\n",
       "    <tr style=\"text-align: right;\">\n",
       "      <th></th>\n",
       "      <th>pental_length</th>\n",
       "      <th>pental_width</th>\n",
       "      <th>power</th>\n",
       "      <th>diff</th>\n",
       "    </tr>\n",
       "  </thead>\n",
       "  <tbody>\n",
       "    <tr>\n",
       "      <th>0</th>\n",
       "      <td>1.4</td>\n",
       "      <td>0.2</td>\n",
       "      <td>1.96</td>\n",
       "      <td>1.76</td>\n",
       "    </tr>\n",
       "    <tr>\n",
       "      <th>1</th>\n",
       "      <td>1.4</td>\n",
       "      <td>0.2</td>\n",
       "      <td>1.96</td>\n",
       "      <td>1.76</td>\n",
       "    </tr>\n",
       "    <tr>\n",
       "      <th>2</th>\n",
       "      <td>1.3</td>\n",
       "      <td>0.2</td>\n",
       "      <td>1.69</td>\n",
       "      <td>1.49</td>\n",
       "    </tr>\n",
       "    <tr>\n",
       "      <th>3</th>\n",
       "      <td>1.5</td>\n",
       "      <td>0.2</td>\n",
       "      <td>2.25</td>\n",
       "      <td>2.05</td>\n",
       "    </tr>\n",
       "    <tr>\n",
       "      <th>4</th>\n",
       "      <td>1.4</td>\n",
       "      <td>0.2</td>\n",
       "      <td>1.96</td>\n",
       "      <td>1.76</td>\n",
       "    </tr>\n",
       "  </tbody>\n",
       "</table>\n",
       "</div>"
      ],
      "text/plain": [
       "   pental_length  pental_width  power  diff\n",
       "0            1.4           0.2   1.96  1.76\n",
       "1            1.4           0.2   1.96  1.76\n",
       "2            1.3           0.2   1.69  1.49\n",
       "3            1.5           0.2   2.25  2.05\n",
       "4            1.4           0.2   1.96  1.76"
      ]
     },
     "execution_count": 6,
     "metadata": {},
     "output_type": "execute_result"
    }
   ],
   "source": [
    "import math\n",
    "cpTrainDf = pd.DataFrame(X, columns=['pental_length','pental_width'])\n",
    "# scalar level power\n",
    "cpTrainDf['power']=cpTrainDf['pental_length']**2\n",
    "# scalar level power and decrease\n",
    "cpTrainDf['diff']=cpTrainDf['pental_length']**2-cpTrainDf['pental_width']\n",
    "# absolute, mode (freq)\n",
    "print('freq of abs(pental_length^2-pental_width): %r' %(cpTrainDf['diff'].abs().mode().values[0]))\n",
    "# absolute, value counts - freq per value\n",
    "print('freq of abs(pental_length^2-pental_width): %r' %(cpTrainDf['diff'].abs().value_counts().idxmax())) \n",
    "print('sqrt(sum(abs(pental_length^2-pental_width))): %r' %(math.sqrt(cpTrainDf['diff'].abs().sum())))\n",
    "cpTrainDf.head()"
   ]
  },
  {
   "cell_type": "markdown",
   "metadata": {
    "slideshow": {
     "slide_type": "slide"
    }
   },
   "source": [
    "## Getting a randomaized element:"
   ]
  },
  {
   "cell_type": "code",
   "execution_count": 7,
   "metadata": {
    "slideshow": {
     "slide_type": "subslide"
    }
   },
   "outputs": [],
   "source": [
    "import random\n",
    "from random import randrange\n",
    "from random import randint\n"
   ]
  },
  {
   "cell_type": "code",
   "execution_count": 8,
   "metadata": {
    "slideshow": {
     "slide_type": "subslide"
    }
   },
   "outputs": [
    {
     "name": "stdout",
     "output_type": "stream",
     "text": [
      "Printing random number using random.random()\n",
      "0.4393392930929916\n"
     ]
    }
   ],
   "source": [
    "print(\"Printing random number using random.random()\")\n",
    "print(random.random())"
   ]
  },
  {
   "cell_type": "code",
   "execution_count": 9,
   "metadata": {
    "slideshow": {
     "slide_type": "subslide"
    }
   },
   "outputs": [
    {
     "name": "stdout",
     "output_type": "stream",
     "text": [
      "Select random element from list -  New York\n"
     ]
    }
   ],
   "source": [
    "city_list = ['New York', 'Los Angeles', 'Chicago', 'Houston', 'Philadelphia']\n",
    "print(\"Select random element from list - \", random.choice(city_list))"
   ]
  },
  {
   "cell_type": "code",
   "execution_count": 10,
   "metadata": {
    "slideshow": {
     "slide_type": "subslide"
    }
   },
   "outputs": [
    {
     "name": "stdout",
     "output_type": "stream",
     "text": [
      "Generate random integer number within a given range\n",
      "30\n",
      "35\n"
     ]
    }
   ],
   "source": [
    "print(\"Generate random integer number within a given range\")\n",
    "print(randrange(10, 50, 5))\n",
    "print(randrange(10, 50, 5))\n"
   ]
  },
  {
   "cell_type": "code",
   "execution_count": 11,
   "metadata": {
    "slideshow": {
     "slide_type": "subslide"
    }
   },
   "outputs": [
    {
     "data": {
      "text/plain": [
       "6"
      ]
     },
     "execution_count": 11,
     "metadata": {},
     "output_type": "execute_result"
    }
   ],
   "source": [
    "arr = list([1,6,3,5,7,8,9,10])\n",
    "indx = randrange(len(arr))\n",
    "indx"
   ]
  },
  {
   "cell_type": "code",
   "execution_count": 12,
   "metadata": {
    "slideshow": {
     "slide_type": "subslide"
    }
   },
   "outputs": [
    {
     "name": "stdout",
     "output_type": "stream",
     "text": [
      "Printing shuffled list  [8, 12, 2, 9, 5]\n"
     ]
    }
   ],
   "source": [
    "list = [2,5,8,9,12]\n",
    "random.shuffle(list)\n",
    "print (\"Printing shuffled list \", list)"
   ]
  },
  {
   "cell_type": "markdown",
   "metadata": {
    "slideshow": {
     "slide_type": "slide"
    }
   },
   "source": [
    "## A little more about indices"
   ]
  },
  {
   "cell_type": "code",
   "execution_count": 13,
   "metadata": {
    "slideshow": {
     "slide_type": "subslide"
    }
   },
   "outputs": [
    {
     "name": "stdout",
     "output_type": "stream",
     "text": [
      "list: [2, 5, 8, 9, 12]\n",
      "min index: 0\n",
      "shuffled: [5, 12, 9, 8, 2]\n",
      "min index: 4\n"
     ]
    }
   ],
   "source": [
    "arr = [2,5,8,9,12]\n",
    "print ('list: '+ str(arr))\n",
    "print ('min index: %d' %(np.argmin(arr)))\n",
    "random.shuffle(arr)\n",
    "print ('shuffled: '+ str(arr))\n",
    "print ('min index: %d' %(np.argmin(arr)))\n"
   ]
  },
  {
   "cell_type": "code",
   "execution_count": 14,
   "metadata": {
    "slideshow": {
     "slide_type": "subslide"
    }
   },
   "outputs": [
    {
     "name": "stdout",
     "output_type": "stream",
     "text": [
      "list: [2, 5, 8, 9, 12]\n",
      "min index: 4\n",
      "shuffled: [5, 2, 12, 9, 8]\n",
      "min index: 2\n"
     ]
    }
   ],
   "source": [
    "arr = [2,5,8,9,12]\n",
    "print ('list: '+ str(arr))\n",
    "print ('min index: %d' %(np.argmax(arr)))\n",
    "random.shuffle(arr)\n",
    "print ('shuffled: '+ str(arr))\n",
    "print ('min index: %d' %(np.argmax(arr)))\n"
   ]
  },
  {
   "cell_type": "code",
   "execution_count": 15,
   "metadata": {
    "slideshow": {
     "slide_type": "subslide"
    }
   },
   "outputs": [
    {
     "name": "stdout",
     "output_type": "stream",
     "text": [
      "list: [2, 5, 8, 9, 12]\n",
      "min index: array([0, 1, 2, 3, 4], dtype=int64)\n",
      "shuffled: [2, 5, 12, 9, 8]\n",
      "min index: array([0, 1, 4, 3, 2], dtype=int64)\n"
     ]
    }
   ],
   "source": [
    "arr = [2,5,8,9,12]\n",
    "print ('list: '+ str(arr))\n",
    "print ('min index: %r' %(np.argsort(arr)))\n",
    "random.shuffle(arr)\n",
    "print ('shuffled: '+ str(arr))\n",
    "print ('min index: %r' %(np.argsort(arr)))\n"
   ]
  },
  {
   "cell_type": "markdown",
   "metadata": {
    "slideshow": {
     "slide_type": "slide"
    }
   },
   "source": [
    "## method as a parameter to another method "
   ]
  },
  {
   "cell_type": "code",
   "execution_count": 16,
   "metadata": {
    "slideshow": {
     "slide_type": "subslide"
    }
   },
   "outputs": [],
   "source": [
    "def method_sum(num1,num2):\n",
    "    return num1+num2"
   ]
  },
  {
   "cell_type": "code",
   "execution_count": 17,
   "metadata": {
    "slideshow": {
     "slide_type": "subslide"
    }
   },
   "outputs": [],
   "source": [
    "def method_mul(num1,num2):\n",
    "    return num1*num2"
   ]
  },
  {
   "cell_type": "code",
   "execution_count": 18,
   "metadata": {
    "slideshow": {
     "slide_type": "subslide"
    }
   },
   "outputs": [],
   "source": [
    "def mathMethod(methodMath,num1,num2):\n",
    "    return methodMath(num1,num2)"
   ]
  },
  {
   "cell_type": "code",
   "execution_count": 19,
   "metadata": {
    "slideshow": {
     "slide_type": "subslide"
    }
   },
   "outputs": [
    {
     "name": "stdout",
     "output_type": "stream",
     "text": [
      "1+2=3\n",
      "1*2=2\n"
     ]
    }
   ],
   "source": [
    "print ('1+2=%d' %(mathMethod(method_sum,1,2)))\n",
    "print ('1*2=%d' %(mathMethod(method_mul,1,2)))"
   ]
  }
 ],
 "metadata": {
  "_change_revision": 76,
  "_is_fork": false,
  "celltoolbar": "Slideshow",
  "kernelspec": {
   "display_name": "Python 3",
   "language": "python",
   "name": "python3"
  },
  "language_info": {
   "codemirror_mode": {
    "name": "ipython",
    "version": 3
   },
   "file_extension": ".py",
   "mimetype": "text/x-python",
   "name": "python",
   "nbconvert_exporter": "python",
   "pygments_lexer": "ipython3",
   "version": "3.8.5"
  }
 },
 "nbformat": 4,
 "nbformat_minor": 1
}
