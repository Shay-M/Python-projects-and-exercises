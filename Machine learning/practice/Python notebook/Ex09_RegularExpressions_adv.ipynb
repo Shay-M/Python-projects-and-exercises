{
 "cells": [
  {
   "cell_type": "markdown",
   "metadata": {
    "id": "db4Oac6zxwES"
   },
   "source": [
    "<a id=\"home\"></a>\n",
    "# Regular Expressions - Advanced (Part 1, Part 2)\n",
    "**Before you start**<br/>\n",
    "You should go over this notebook after completing the basic regular expression notebook:<br/>\n",
    "[regular expressions - basic notebook](Ex09_RegularExpressions.ipynb)\n",
    "\n",
    "| Section | Section-name | Section | Section-name | Section | Section-name | \n",
    "| :- | :- | :- | :- | :- | :- | \n",
    "| part 1 | [Regexp - Repetition](#part1) |  1. | [1. Repetition Qualifiers](#1) |  1.a. | [the `+` meta-character](#1a) | \n",
    "| 1.b. | [ `*` and `?`](#1b) | 1.c. | [Specifying number of occurrences](#1c) | 1.d. | [Example: E-Mails](#1d) | \n",
    "| 1.e. | [Optional Exercise for part 1](#1e) | \n",
    "| part 2 | [advanced syntax](#part2) |  2.a. | [Grouping](#2a) |  2.b. | [the `sub` function](#2b) | \n",
    "| 2.c. | [ the re `flags`](#2c) | 2.d. | [Greedy vs non-greedy](#2d) | 2.e. | [Other Functions](#2e) | \n",
    "| 2.f. | [Optional Exercise for part 2](#2f) |\n"
   ]
  },
  {
   "cell_type": "markdown",
   "metadata": {},
   "source": [
    "### About this notebook\n",
    "This notebook is divided into 2 parts (part 1, part 2).<br/>\n",
    "**Part 1** practices the following items:\n",
    "+ Get familiar with repetition in Regular Expressions\n",
    "- Practice the use of `+`, `*` and `?` operators\n",
    "- Practice the use of `{,}`\n",
    "\n",
    "**Part 2** practices the following items:\n",
    "+ Get familiar with grouping\n",
    "- Practice the use of `sub` and use of grouping in it\n",
    "- Demonstrate the difference between greedy and non-greedy match\n",
    "- Use of `re` flags"
   ]
  },
  {
   "cell_type": "code",
   "execution_count": null,
   "metadata": {},
   "outputs": [],
   "source": [
    "import re\n",
    "\n",
    "# show several prints in one cell. This will allow us to condence every trick in one cell.\n",
    "from IPython.core.interactiveshell import InteractiveShell\n",
    "InteractiveShell.ast_node_interactivity = \"all\""
   ]
  },
  {
   "cell_type": "markdown",
   "metadata": {},
   "source": [
    "[Go to the beginning of the notebook](#home)\n",
    "<a id=\"part1\"></a>\n",
    "## Part 1 - Regular Expressions - Repetition"
   ]
  },
  {
   "cell_type": "markdown",
   "metadata": {
    "id": "T3IT38O5xwET"
   },
   "source": [
    "[Go to the beginning of the notebook](#home)\n",
    "<a id=\"1\"></a>\n",
    "### 1. Repetition Qualifiers\n",
    "\n",
    "A key concept in regex is repetition. There are five ways to express repetition in a pattern:\n",
    "\n",
    "1. A pattern followed by the meta-character **+** is repeated one or more times. \n",
    "2. Replace the **+** with <b>*</b> and the pattern can appear zero or more times. \n",
    "3. Using **?** means the pattern appears zero or one time. \n",
    "4. For a specific number of occurrences, use **{m}** after the pattern, where m is replaced with the number of times         the pattern should repeat. \n",
    "5. Use **{m,n}** where m is the minimum number of repetitions and n is the maximum. <br/>Leaving out n (**{m,}**) means the           value appears at least m times, with no maximum.\n",
    "\n",
    "Now we will see an example of each of these:"
   ]
  },
  {
   "cell_type": "markdown",
   "metadata": {
    "id": "lx-q17mGxwET"
   },
   "source": [
    "[Go to the beginning of the notebook](#home)\n",
    "<a id=\"1a\"></a>\n",
    "####  1.a. the `+` meta-character\n",
    "\n",
    "Hmm.. Let's try to catch this slang word \"hmm\" - as you may know, some people write it as \"hmm\", <br/>\n",
    "while others write as \"hmmm\" or even \"hmmmmm\" - let's see how we can capture this in one expression"
   ]
  },
  {
   "cell_type": "code",
   "execution_count": null,
   "metadata": {
    "id": "I5r0p3lIxwET"
   },
   "outputs": [],
   "source": [
    "import re"
   ]
  },
  {
   "cell_type": "code",
   "execution_count": null,
   "metadata": {
    "id": "igb85JGtxwEU",
    "outputId": "b2ba2b99-5196-46a3-e7a8-1a57b8d4cf1f"
   },
   "outputs": [],
   "source": [
    "txt=\"hmmmm.. what do you mean by that?\"\n",
    "pattern = \"hm+\"\n",
    "\n",
    "print(re.findall(pattern,txt))"
   ]
  },
  {
   "cell_type": "code",
   "execution_count": null,
   "metadata": {},
   "outputs": [],
   "source": [
    "txt=\"hmmmm.. what do you mean by that?\"\n",
    "pattern2 = \"hm*\"\n",
    "\n",
    "print(re.findall(pattern2,txt))"
   ]
  },
  {
   "cell_type": "markdown",
   "metadata": {
    "id": "CokMiC8exwEV"
   },
   "source": [
    "try to change in the above ``txt`` string, the 'hmm' expression to be longer or shorter. \n",
    "\n",
    "What do you see?"
   ]
  },
  {
   "cell_type": "markdown",
   "metadata": {
    "id": "SsLFcgy4xwEV"
   },
   "source": [
    "Lets use the following ``txt`` string - and see how we can use the `+` meta character to extract the people first names"
   ]
  },
  {
   "cell_type": "code",
   "execution_count": null,
   "metadata": {
    "id": "OvjeZeNlxwEW"
   },
   "outputs": [],
   "source": [
    "txt=\"\"\"\n",
    "\n",
    "name: Dina Ivry\n",
    "email: dimai@gmail.com\n",
    "time: 2020-11-02 11:32:11\n",
    "phone: 052-3434233\n",
    "city: Tel-aviv\n",
    "title: knn  \n",
    "content: can you explain what does the k hyper-parameter mean???\n",
    "\n",
    "==============\n",
    "name: Joseph Haim Katzir\n",
    "email: joek@myemail.ac.il\n",
    "time: 2020-12-20 13:34:02\n",
    "phone: (054) 5444443\n",
    "city: Tel aviv\n",
    "title: what a great lecture   \n",
    "content: avinoam this was one of your best\n",
    "\n",
    "=============\n",
    "\n",
    "\"\"\""
   ]
  },
  {
   "cell_type": "code",
   "execution_count": null,
   "metadata": {
    "id": "ikYuVdnZxwEW",
    "outputId": "6a514177-c819-4791-b81b-f809e0e41eab"
   },
   "outputs": [],
   "source": [
    "pattern = \"name: \\w+\"\n",
    "\n",
    "print(re.findall(pattern,txt))"
   ]
  },
  {
   "cell_type": "markdown",
   "metadata": {
    "id": "b0maxBv6xwEW"
   },
   "source": [
    "This is much simpler than the pattern we used before. <br/>\n",
    "Note also that it captures vairable length. <br/>\n",
    "If you take a look you can see that some names have also a middle name. <br/>\n",
    "\n",
    "How can we write a pattern to capture the full name?"
   ]
  },
  {
   "cell_type": "markdown",
   "metadata": {
    "id": "04kIHNapxwEX"
   },
   "source": [
    "[Go to the beginning of the notebook](#home)\n",
    "<a id=\"1b\"></a>\n",
    "#### 1.b.  `*` and `?` meta-charachter\n",
    "In order to cpature both options: with and without middle name - we need to define a pattern in which the middle name is optional. <br/>\n",
    "For this we will use the `*` meta-charachter. <br/>\n",
    "\n",
    "In the pattern will cpature first_name space optional_middle_name optional_space last_name"
   ]
  },
  {
   "cell_type": "code",
   "execution_count": null,
   "metadata": {
    "id": "TErMgdlZxwEX",
    "outputId": "5fb439d3-ca1e-4ab6-f131-cb3ea6c2d973"
   },
   "outputs": [],
   "source": [
    "# we want to cpature first_name space optional_middle_name optional_space last_name\n",
    "pattern = \"name: \\w+ \\w* ?\\w+\"\n",
    "\n",
    "print(re.findall(pattern,txt))"
   ]
  },
  {
   "cell_type": "markdown",
   "metadata": {
    "id": "xm4Yb4yHxwEX"
   },
   "source": [
    "note that we could use a simpler pattern to capture the entire line that starts with \"name:\". <br/>\n",
    "\n",
    "The pattern will look like this:"
   ]
  },
  {
   "cell_type": "code",
   "execution_count": null,
   "metadata": {
    "id": "nDdb4IkLxwEX",
    "outputId": "5ee0751e-7a42-4647-eb76-2d8a7a043926"
   },
   "outputs": [],
   "source": [
    "pattern = \"name: .*\"\n",
    "\n",
    "print(re.findall(pattern,txt))"
   ]
  },
  {
   "cell_type": "markdown",
   "metadata": {
    "id": "vBVhz9ZrxwEY"
   },
   "source": [
    "While this pattern is simpler, it doesn't provide us with a breakdown of the different elements in the name, that will become useful later."
   ]
  },
  {
   "cell_type": "markdown",
   "metadata": {
    "id": "Nh3ceQd7xwEY"
   },
   "source": [
    "[Go to the beginning of the notebook](#home)\n",
    "<a id=\"1c\"></a>\n",
    "#### 1.c. Specifying number of occurrences\n",
    "\n",
    "`{m}` Specifies that exactly m copies of the previous RE that should be matched. <br/>\n",
    "Fewer matches cause the entire RE not to match. <br/>\n",
    "\n",
    "Let's the phone numbers example:"
   ]
  },
  {
   "cell_type": "code",
   "execution_count": null,
   "metadata": {
    "id": "7eTsOIGixwEY",
    "outputId": "5363a262-dfde-4e44-bfea-561340a23c74"
   },
   "outputs": [],
   "source": [
    "phone_numbers = \"(054) 232-2235, (050) 134-2215, this is common in twelve (12) countries and one (1) state\"\n",
    "\n",
    "# match exactly three digits enclosed in brackets (area-code)\n",
    "re.findall(\"\\(([0-9]{3})\\)\", phone_numbers)"
   ]
  },
  {
   "cell_type": "markdown",
   "metadata": {
    "id": "rRXpS-VQxwEY"
   },
   "source": [
    "We can now also extend it to extract the phone numbers in the text:"
   ]
  },
  {
   "cell_type": "code",
   "execution_count": null,
   "metadata": {
    "id": "zlZYu5AfxwEZ",
    "outputId": "f32f754f-cfa8-4e88-bd18-af362a651b4d"
   },
   "outputs": [],
   "source": [
    "pattern=\"\\(\\d{3}\\) \\d{3}\\-?\\d{4}\"\n",
    "\n",
    "re.findall(pattern, phone_numbers)"
   ]
  },
  {
   "cell_type": "markdown",
   "metadata": {
    "id": "O-H7KTUgxwEZ"
   },
   "source": [
    "if we apply it on the ``txt`` string data, we will see it still doesn't work perfectly. "
   ]
  },
  {
   "cell_type": "code",
   "execution_count": null,
   "metadata": {
    "id": "4bNMX-0exwEZ",
    "outputId": "b1ebb3df-ee56-45a6-da93-3cf952c9ce15"
   },
   "outputs": [],
   "source": [
    "re.findall(pattern, txt)"
   ]
  },
  {
   "cell_type": "markdown",
   "metadata": {
    "id": "vBRHlf3oxwEZ"
   },
   "source": [
    "it found only one of the numbers. <br/>\n",
    "\n",
    "Let's update the pattern to extract both numbers"
   ]
  },
  {
   "cell_type": "code",
   "execution_count": null,
   "metadata": {
    "id": "GuesF7qUxwEa",
    "outputId": "197abdd4-02fe-4bdf-af4e-8e939af4226a"
   },
   "outputs": [],
   "source": [
    "pattern=\"\\(?\\d{3}\\)?[ \\-]\\d{3}\\-?\\d{4}\"\n",
    "\n",
    "re.findall(pattern, txt)"
   ]
  },
  {
   "cell_type": "markdown",
   "metadata": {
    "id": "mMP0-u5UxwEa"
   },
   "source": [
    "hurray! it worked.. let's explain what we did:\n",
    "\n",
    "1. We marked the brackets around the area code as optional (`\\(?\\d{3}\\)?` instead of `\\(\\d{3}\\)`)\n",
    "2. We allowed either a space or hypher between area code and main number (`[ \\-]` instead of ` ` between area code and main number) \n",
    "\n",
    "Let's see another more complex example:"
   ]
  },
  {
   "cell_type": "markdown",
   "metadata": {
    "id": "bAYmi6ZjxwEa"
   },
   "source": [
    "[Go to the beginning of the notebook](#home)\n",
    "<a id=\"1d\"></a>\n",
    "#### 1.d. Example: E-Mails\n",
    "\n",
    "Let's take a look at how we can use regular expressions. <br/>\n",
    "Suppose you're a marketer and you want to scrape e-mail addresses from website. \n",
    "\n",
    "Here is an example:"
   ]
  },
  {
   "cell_type": "code",
   "execution_count": null,
   "metadata": {
    "id": "z26e1C_DxwEa",
    "outputId": "bd0eb2fe-b34b-4b53-9a55-86c05bb825c6"
   },
   "outputs": [],
   "source": [
    "html = 'You can reach us @datascience <a href=\"mailto:datascience@campus.gov.il\">by e-mail</a> if necessary.'\n",
    "\n",
    "pattern = \"\"#your pattern here\n",
    "\n",
    "re.findall(pattern, html)"
   ]
  },
  {
   "cell_type": "code",
   "execution_count": null,
   "metadata": {
    "id": "NA7TU13fxwEb",
    "outputId": "ebb8d3b5-cf5f-48f3-9b24-84383cf7b3d1"
   },
   "outputs": [],
   "source": [
    "# a first attempt:\n",
    "# \\w+ 1-n word letters,\n",
    "# @ for the literal @ \n",
    "# 1-n word letters\n",
    "pattern=r'\\w+@\\w+'\n",
    "re.findall(pattern, html)"
   ]
  },
  {
   "cell_type": "markdown",
   "metadata": {
    "id": "oJwBU6w0xwEb"
   },
   "source": [
    "That didn't work because `.` doesn't match for `\\w`. \n",
    "\n",
    "We can write a more specific query:"
   ]
  },
  {
   "cell_type": "code",
   "execution_count": null,
   "metadata": {
    "id": "ZZcCFh2QxwEb",
    "outputId": "6123adcc-3e55-40be-da1a-93f536b8ab7a"
   },
   "outputs": [],
   "source": [
    "# \\w+ 1-n word letters\n",
    "# @\n",
    "# 1-n word letters\n",
    "# a period \\.\n",
    "# 1-n word letters\n",
    "# another period \\., \n",
    "# and more 1-n word letters \n",
    "pattern=r'\\w+@\\w+\\.+\\w+\\.\\w+'\n",
    "re.findall(pattern, html)"
   ]
  },
  {
   "cell_type": "markdown",
   "metadata": {
    "id": "dFm-HRO1xwEb"
   },
   "source": [
    "That worked! But it's easy to see that this isn't very general, i.e., it doesn't work for every legal e-mail. \n",
    "\n",
    "See the example text below:"
   ]
  },
  {
   "cell_type": "code",
   "execution_count": null,
   "metadata": {
    "id": "oFoFhnxUxwEb",
    "outputId": "f4bf3b54-870e-4ddf-8f96-c14c3db093c5"
   },
   "outputs": [],
   "source": [
    "html2 = 'You can reach us also at <a href=\"mailto:datasciencemooc@gmail.com\">by e-mail</a> if necessary.'\n",
    "\n",
    "re.findall(pattern, html2)"
   ]
  },
  {
   "cell_type": "markdown",
   "metadata": {
    "id": "jCfQbiEQxwEc"
   },
   "source": [
    "Here the e-mail datasciencemooc@gmail.com wasn't matched at all. Let's revise the pattern a bit, and check it on both texts:"
   ]
  },
  {
   "cell_type": "code",
   "execution_count": null,
   "metadata": {
    "id": "VxmUByybxwEc",
    "outputId": "9454d808-65d0-46b1-e011-e4489bc2bbfa"
   },
   "outputs": [],
   "source": [
    "pattern=r'\\w+@\\w+\\.+\\w+\\.?\\w*'\n",
    "for t in [html,html2]:\n",
    "    print(re.findall(pattern, t))"
   ]
  },
  {
   "cell_type": "markdown",
   "metadata": {
    "id": "td6eq9vMxwEc"
   },
   "source": [
    "This works on both texts, but what happens if our actual email changes, and is like the following:"
   ]
  },
  {
   "cell_type": "code",
   "execution_count": null,
   "metadata": {
    "id": "ghz8JTskxwEc",
    "outputId": "68546f50-58ba-4eda-a88d-cc49f858022c"
   },
   "outputs": [],
   "source": [
    "html3 = 'You can reach us also at <a href=\"mailto:data-science-mooc@gmail.com\">by e-mail</a> if necessary.'\n",
    "\n",
    "re.findall(pattern, html3)"
   ]
  },
  {
   "cell_type": "markdown",
   "metadata": {
    "id": "uZs-3K2NxwEd"
   },
   "source": [
    "Here, something matched but it's the wrong e-mail! It's not data-science-mooc@gmail.com but mooc@gmail.com. \n",
    "\n",
    "To fix this, we need to improve the pattern and use also character groups:"
   ]
  },
  {
   "cell_type": "code",
   "execution_count": null,
   "metadata": {
    "id": "_CNcEApExwEd",
    "outputId": "f7a7a660-aaa7-4c4f-e03e-616b5e9d78c7"
   },
   "outputs": [],
   "source": [
    "pattern = r'[\\w.-]+@[\\w.-]+'\n",
    "for t in [html,html2,html3]:\n",
    "    print(re.findall(pattern, t))"
   ]
  },
  {
   "cell_type": "markdown",
   "metadata": {
    "id": "9f0ox0oHxwEe"
   },
   "source": [
    "That worked wonderfully! <br/>\n",
    "See how easy it is to extract an e-mail from a website. <br/>\n",
    "\n",
    "However, this pattern matches valid e-mail addresses, but it also matches non-valid ones. <br/>\n",
    "So this is a fine regex if you want to extract e-mail addresses, but not if you want to validate an e-mail address. <br/>\n",
    "\n",
    "Try to think on text sequnces that would be matched to this regular expression but do not represent valid emails.."
   ]
  },
  {
   "cell_type": "markdown",
   "metadata": {},
   "source": [
    "[Go to the beginning of the notebook](#home)\n",
    "<a id=\"1e\"></a>\n",
    "#### 1.e. Optional Exercise:\n",
    "Optionally sharpen your skills with [regular expression self exercises notebook](Ex09-RegularExpression-Exercises.ipynb).<br/>\n",
    "The following exercise is relevant for now:\n",
    "* Exercise 3"
   ]
  },
  {
   "cell_type": "markdown",
   "metadata": {},
   "source": [
    "[Go to the beginning of the notebook](#home)\n",
    "<a id=\"part2\"></a>\n",
    "## Part 2 - Regular Expressions - advanced syntax\n",
    "\n",
    "In this part you will practice the following items:\n",
    "+ Get familiar with grouping\n",
    "- Practice the use of `sub` and use of grouping in it\n",
    "- Demonstrate the difference between greedy and non-greedy match\n",
    "- Use of `re` flags"
   ]
  },
  {
   "cell_type": "markdown",
   "metadata": {},
   "source": [
    "[Go to the beginning of the notebook](#home)\n",
    "<a id=\"2a\"></a>\n",
    "#### 2.a. Grouping\n",
    "If we want to be more specific about repeating substrings, for example, <br/>\n",
    "we need to be able to group a part of a regular expression. \n",
    "\n",
    "You can group with round brackets `()`, so you can refer only to those elements. <br/>\n",
    "Each element is captured as a `group` item in the `Match` object. If you use `findall` you will get an array of the grouped items rather the entire string\n",
    "\n",
    "Now we will see an example of it, on our ``txt`` string data. <br/>\n",
    "We want to extract the first and last name, but get only the names without the `name: ` prefix"
   ]
  },
  {
   "cell_type": "code",
   "execution_count": null,
   "metadata": {},
   "outputs": [],
   "source": [
    "txt=\"\"\"\n",
    "@start_comment\n",
    "name: Dina Ivry\n",
    "email: dimai@gmail.com\n",
    "time: 2020-11-02 11:32:11\n",
    "phone: 052-3434233\n",
    "city: Tel-aviv\n",
    "title: knn  \n",
    "content: can you explain what does the k hyper-parameter mean???\n",
    "@end_comment\n",
    "==============\n",
    "@start_comment\n",
    "name: Joseph Haim Katzir\n",
    "email: joek@myemail.ac.il\n",
    "time: 2020-12-20 13:34:02\n",
    "phone: (054) 5444443\n",
    "city: Tel aviv\n",
    "title: what a great lecture   \n",
    "content: avinoam this was one of your best\n",
    "@end_comment\n",
    "=============\n",
    "\n",
    "\"\"\""
   ]
  },
  {
   "cell_type": "markdown",
   "metadata": {},
   "source": [
    "recall the pattern we tried before:"
   ]
  },
  {
   "cell_type": "code",
   "execution_count": null,
   "metadata": {},
   "outputs": [],
   "source": [
    "pattern = \"name: \\w+ \\w* ?\\w+\"\n",
    "\n",
    "print(re.findall(pattern,txt))"
   ]
  },
  {
   "cell_type": "markdown",
   "metadata": {},
   "source": [
    "As you see, we extracted also the `name: ` prefix. \n",
    "\n",
    "We can use grouping to return only the name itself"
   ]
  },
  {
   "cell_type": "code",
   "execution_count": null,
   "metadata": {},
   "outputs": [],
   "source": [
    "pattern = \"name: (\\w+ \\w* ?\\w+)\"\n",
    "\n",
    "print(re.findall(pattern,txt))"
   ]
  },
  {
   "cell_type": "markdown",
   "metadata": {},
   "source": [
    "if we want to mark each of the names (first middle and last) we can do this as well"
   ]
  },
  {
   "cell_type": "code",
   "execution_count": null,
   "metadata": {},
   "outputs": [],
   "source": [
    "pattern = \"name: (\\w+) ?(\\w*) (\\w+)\"\n",
    "\n",
    "print(re.findall(pattern,txt))"
   ]
  },
  {
   "cell_type": "markdown",
   "metadata": {},
   "source": [
    "if we apply the `search` command - we would do it this way:"
   ]
  },
  {
   "cell_type": "code",
   "execution_count": null,
   "metadata": {},
   "outputs": [],
   "source": [
    "m=re.search(pattern,txt)\n",
    "if(m):\n",
    "    (len(m.groups()))\n",
    "    print(\"First name is:\",m.group(1))\n",
    "    print(\"Middle name (if any) is:\",m.group(2))\n",
    "    print(\"Last name is:\",m.group(3))"
   ]
  },
  {
   "cell_type": "markdown",
   "metadata": {},
   "source": [
    "[Go to the beginning of the notebook](#home)\n",
    "<a id=\"2b\"></a>\n",
    "#### 2.b. the `sub` function\n",
    "\n",
    "We can use the sub() to dynamically replace content. "
   ]
  },
  {
   "cell_type": "code",
   "execution_count": null,
   "metadata": {},
   "outputs": [],
   "source": [
    "weekdays = \"We could meet Monday or Wednesday\"\n",
    "\n",
    "re.sub(\"Monday|Tuesday|Wednesday|Thursday|Friday\", \"Weekday\",  weekdays)"
   ]
  },
  {
   "cell_type": "markdown",
   "metadata": {},
   "source": [
    "We can use grouping functionality to make the replacement smarter. <br/>\n",
    "\n",
    "Consider we want to switch the order from \"first middle last\" name structure, to \"last first middle\" "
   ]
  },
  {
   "cell_type": "code",
   "execution_count": null,
   "metadata": {},
   "outputs": [],
   "source": [
    "name=\"Joseph Haim Katzir\"\n",
    "pattern = \"(\\w+) ?(\\w*) (\\w+)\"\n",
    "\n",
    "re.sub(pattern,r\"\\3 \\1 \\2\",name)"
   ]
  },
  {
   "cell_type": "markdown",
   "metadata": {},
   "source": [
    "very powerful!"
   ]
  },
  {
   "cell_type": "markdown",
   "metadata": {},
   "source": [
    "[Go to the beginning of the notebook](#home)\n",
    "<a id=\"2c\"></a>\n",
    "#### 2.c. the re `flags`\n",
    "Look on the example below: \n",
    "\n",
    "we will try to match the ``txt`` string:"
   ]
  },
  {
   "cell_type": "code",
   "execution_count": null,
   "metadata": {},
   "outputs": [],
   "source": [
    "pattern=\"@start_comment(.*)@end_comment\"\n",
    "\n",
    "print(re.findall(pattern,txt))"
   ]
  },
  {
   "cell_type": "markdown",
   "metadata": {},
   "source": [
    "but.. nothing was extracted. <br/>\n",
    "The reason for that, is since the match spans multiple lines, and by default the `.` (dot) escape character doesn't match new-lines. <br/>\n",
    "\n",
    "In order to over come this, we need to use `flags` - to instruct the matching engine to consider also new line as part of dot."
   ]
  },
  {
   "cell_type": "code",
   "execution_count": null,
   "metadata": {},
   "outputs": [],
   "source": [
    "pattern=\"@start_comment(.*)@end_comment\"\n",
    "\n",
    "for s in re.findall(pattern,txt, flags=re.DOTALL):\n",
    "    print(s)"
   ]
  },
  {
   "cell_type": "markdown",
   "metadata": {},
   "source": [
    "This worked partially. <br/>\n",
    "It extracted text, but not exactly what we wanted. <br/>\n",
    "It extracted the entire text, from the first \"@start_comment\" up to the very last \"@end_comment\". <br/>\n",
    "\n",
    "What we wanted is just to extract the text between two adjacent open and end tags. <br/>\n",
    "In order to solve this we need to introduce the \"`non-greedy` match."
   ]
  },
  {
   "cell_type": "markdown",
   "metadata": {},
   "source": [
    "[Go to the beginning of the notebook](#home)\n",
    "<a id=\"2d\"></a>\n",
    "#### 2.d. Greedy vs non-greedy\n",
    "By default, regular expressions are greedy.<br/>\n",
    "This means they try to capture the first and longest match possible. <br/>\n",
    "\n",
    "In the previous example, we tried to match a single post in the forum. <br/>\n",
    "With non-greedy operator we instruct the system to look for the shortest match, rather than the longest one. <br/>\n",
    "\n",
    "We can modify this behavior with the `?` character, which signals that the expression on the left should not be greedy:"
   ]
  },
  {
   "cell_type": "code",
   "execution_count": null,
   "metadata": {},
   "outputs": [],
   "source": [
    "pattern=\"@start_comment(.*?)@end_comment\"\n",
    "\n",
    "for s in re.findall(pattern,txt, flags=re.DOTALL):\n",
    "    print(s)\n",
    "    print(\"------------\")"
   ]
  },
  {
   "cell_type": "markdown",
   "metadata": {},
   "source": [
    "Greedy applies to the `*`, `+` and `?` operators – so these are legal sequences: `*?`, `+?`, `??`."
   ]
  },
  {
   "cell_type": "markdown",
   "metadata": {},
   "source": [
    "[Go to the beginning of the notebook](#home)\n",
    "<a id=\"2e\"></a>\n",
    "#### 2.e. Other Functions\n",
    "\n",
    "We've covered a lot, but not all of the functionality of regex.  <br/>\n",
    "A couple of other functions that could be helpful:\n",
    "\n",
    "* [finditer](https://docs.python.org/3/library/re.html#re.finditer) returns an iterator\n",
    "* the [IGNORECASE](https://docs.python.org/3/library/re.html#re.IGNORECASE) option"
   ]
  },
  {
   "cell_type": "markdown",
   "metadata": {},
   "source": [
    "[Go to the beginning of the notebook](#home)\n",
    "<a id=\"2f\"></a>\n",
    "#### 2.f. Optional Exercise:\n",
    "Optionally sharpen your skills with [regular expression self exercises notebook](Ex09-RegularExpression-Exercises.ipynb).<br/>\n",
    "The following exercise is relevant for now:\n",
    "* Exercise 4"
   ]
  }
 ],
 "metadata": {
  "anaconda-cloud": {},
  "colab": {
   "collapsed_sections": [],
   "name": "L10_NB02_REGEX_2.ipynb",
   "provenance": []
  },
  "kernelspec": {
   "display_name": "Python 3",
   "language": "python",
   "name": "python3"
  },
  "language_info": {
   "codemirror_mode": {
    "name": "ipython",
    "version": 3
   },
   "file_extension": ".py",
   "mimetype": "text/x-python",
   "name": "python",
   "nbconvert_exporter": "python",
   "pygments_lexer": "ipython3",
   "version": "3.8.8"
  },
  "toc": {
   "base_numbering": 1,
   "nav_menu": {},
   "number_sections": true,
   "sideBar": true,
   "skip_h1_title": false,
   "title_cell": "Table of Contents",
   "title_sidebar": "Contents",
   "toc_cell": false,
   "toc_position": {
    "height": "calc(100% - 180px)",
    "left": "10px",
    "top": "150px",
    "width": "326.95px"
   },
   "toc_section_display": true,
   "toc_window_display": true
  }
 },
 "nbformat": 4,
 "nbformat_minor": 1
}
