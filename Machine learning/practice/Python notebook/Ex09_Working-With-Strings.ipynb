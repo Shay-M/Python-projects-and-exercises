{
 "cells": [
  {
   "cell_type": "markdown",
   "metadata": {},
   "source": [
    "Credits: This notebook contains an excerpt from the [Python Data Science Handbook]\n",
    "by Jake VanderPlas;\n",
    "\n",
    "*The text is released under the [CC-BY-NC-ND license](https://creativecommons.org/licenses/by-nc-nd/3.0/us/legalcode), and code is released under the [MIT license](https://opensource.org/licenses/MIT). <br/>\n",
    "If you find this content useful, please consider supporting the work by [buying the book](http://shop.oreilly.com/product/0636920034919.do)!*"
   ]
  },
  {
   "cell_type": "markdown",
   "metadata": {},
   "source": [
    "<a id=\"home\"></a>\n",
    "## Working with strings\n",
    "\n",
    "| Section | Section-name | Section | Section-name | Section | Section-name | \n",
    "| :- | :- | :- | :- | :- | :- | \n",
    "| 1.a. | [Basic strings](#1a) |  1.b. | [String indexing](#1b) |  1.c. | [Basic string operations](#1c) | \n",
    "| 1.d. | [Finding a substring](#1d) | 1.e. | [String transformations](#1e) |  1.f. | [split and join](#1f) | \n",
    "| 2.a. | [String ops via list comprehensions](#2a) | nb_regxep | [regular expressions notebooks](#nb_regexps) | \n",
    "| 3.a. | [Pandas objects containing strings](#3a) | 3.b. | [Series string methods](#3b) | 3.c. | [Using pandas string methods](#3c) | 3.d. | [Basic strings](#3d) |\n",
    "| 3.d. | [Series and regular expressions](#3d) | 3.e. | [Series  misc. string methods](#3e) | 3.f. | [Series item access and slicing](#3e) |\n",
    "| 3.g. | [Indicator variables](#3g) | "
   ]
  },
  {
   "cell_type": "code",
   "execution_count": null,
   "metadata": {},
   "outputs": [],
   "source": [
    "# Standard Improts\n",
    "import os\n",
    "import warnings\n",
    "import numpy as np\n",
    "import pandas as pd\n",
    "import seaborn as sns\n",
    "import matplotlib.pyplot as plt\n",
    "\n",
    "warnings.simplefilter(\"ignore\")\n",
    "%matplotlib inline\n",
    "\n",
    "# show several prints in one cell. This will allow us to condence every trick in one cell.\n",
    "from IPython.core.interactiveshell import InteractiveShell\n",
    "InteractiveShell.ast_node_interactivity = \"all\""
   ]
  },
  {
   "cell_type": "markdown",
   "metadata": {},
   "source": [
    "[Go to the beginning of the notebook](#home)\n",
    "<a id=\"1a\"></a>\n",
    "#### 1.a. Basic strings"
   ]
  },
  {
   "cell_type": "code",
   "execution_count": null,
   "metadata": {},
   "outputs": [],
   "source": [
    "print('A string is contained within 2 quotes:')\n",
    "\"John Smith\"\n",
    "\n",
    "print('You can also use single  quotes:')\n",
    "'John Smith'\n",
    "\n",
    "print('A string can be spaces and digits:') \n",
    "'1 2 3 4 5 6 '\n",
    "\n",
    "print('A string can also be special characters:') \n",
    "'@#2_#]&*^%$'"
   ]
  },
  {
   "cell_type": "code",
   "execution_count": null,
   "metadata": {},
   "outputs": [],
   "source": [
    "# multiline string\n",
    "hi = \"\"\"Hi there \n",
    "Hi again\n",
    "Bye\"\"\"\n",
    "'''\n",
    "explanation \n",
    "of \n",
    "something\n",
    "'''\n",
    "print(hi)  "
   ]
  },
  {
   "cell_type": "markdown",
   "metadata": {},
   "source": [
    "[Go to the beginning of the notebook](#home)\n",
    "<a id=\"1b\"></a>\n",
    "#### 1.b. String indexing"
   ]
  },
  {
   "cell_type": "code",
   "execution_count": null,
   "metadata": {},
   "outputs": [],
   "source": [
    "Name= \"Jack Smith\"\n",
    "len_min1=len(Name)-1\n",
    "print('Name       : '+Name)\n",
    "print('len(Name)  : %d' %(len(Name)))\n",
    "print('Name[5]    : '+'-'*5+Name[5])\n",
    "print('Name[-1]   : '+'-'*len_min1+Name[-1])\n",
    "print('Name[0:4]  : '+Name[0:4])\n",
    "print('Name[::2]  : '+Name[::2])\n",
    "print('Name[::-1] : '+Name[::-1])\n",
    "print('Name[::-2] : '+Name[::-2])\n",
    "print('Name[1:7:2]: '+Name[1:7:2])\n",
    "print('hi '*3)"
   ]
  },
  {
   "cell_type": "markdown",
   "metadata": {},
   "source": [
    "[Go to the beginning of the notebook](#home)\n",
    "<a id=\"1c\"></a>\n",
    "#### 1.c. Basic string operations\n",
    "You can find a list of all string methods in the [documentation](https://docs.python.org/2/library/stdtypes.html#string-methods)."
   ]
  },
  {
   "cell_type": "code",
   "execution_count": null,
   "metadata": {},
   "outputs": [],
   "source": [
    "s = \"he'llo\"\n",
    "print(s)\n",
    "print (s.capitalize()  )# Capitalize a string; prints \"Hello\"\n",
    "print (s.upper()      ) # Convert a string to uppercase; prints \"HELLO\"\n",
    "print (s.rjust(7)    )  # Right-justify a string, padding with spaces; prints \"  hello\"\n",
    "print (s.center(7)  )   # Center a string, padding with spaces; prints \" hello \"\n",
    "print (s.replace('l', '(ell)'))  # Replace all instances of one substring with another;\n",
    "#                                  prints \"he(ell)(ell)o\"\n",
    "print (s.replace('l', '(ell)',1)) \n",
    "print (s.replace(\"'\",\"\"))\n",
    "print ('  world '.strip())  # Strip leading and trailing whitespace; prints \"world\"\n",
    "print (', hi my name is John.'.strip(',. '))\n",
    "print ('שלום לכולם,'.rstrip(','))\n",
    "print ('שלום לכולם,'.lstrip(','))"
   ]
  },
  {
   "cell_type": "markdown",
   "metadata": {},
   "source": [
    "[Go to the beginning of the notebook](#home)\n",
    "<a id=\"1d\"></a>\n",
    "#### 1.d. Finding a substring"
   ]
  },
  {
   "cell_type": "code",
   "execution_count": null,
   "metadata": {},
   "outputs": [],
   "source": [
    "Name\n",
    "Name.find('ck')"
   ]
  },
  {
   "cell_type": "code",
   "execution_count": null,
   "metadata": {},
   "outputs": [],
   "source": [
    "Name\n",
    "Name.find('lm')"
   ]
  },
  {
   "cell_type": "markdown",
   "metadata": {},
   "source": [
    "[Go to the beginning of the notebook](#home)\n",
    "<a id=\"1e\"></a>\n",
    "#### 1.e. String transformations"
   ]
  },
  {
   "cell_type": "code",
   "execution_count": null,
   "metadata": {},
   "outputs": [],
   "source": [
    "ord('A')\n",
    "some_str='string with ABCE'\n",
    "translation =some_str.maketrans('BACD', 'abcd')\n",
    "translation\n",
    "some_str\n",
    "some_str.translate(translation)"
   ]
  },
  {
   "cell_type": "code",
   "execution_count": null,
   "metadata": {},
   "outputs": [],
   "source": [
    "ord('א')\n",
    "some_str='Hebrew Letters: אבג'\n",
    "translation = s.maketrans('אבג', 'abc')\n",
    "translation\n",
    "some_str\n",
    "some_str.translate(translation)"
   ]
  },
  {
   "cell_type": "markdown",
   "metadata": {},
   "source": [
    "[Go to the beginning of the notebook](#home)\n",
    "<a id=\"1f\"></a>\n",
    "#### 1.f. split and join"
   ]
  },
  {
   "cell_type": "code",
   "execution_count": null,
   "metadata": {},
   "outputs": [],
   "source": [
    "str_sentence  = 'This is a sentence'\n",
    "str_sentence2 = 'This is, a sentence'\n",
    "str_sentence\n",
    "str_sentence.split(' ')\n",
    "str_sentence2\n",
    "str_sentence2.split(', ')"
   ]
  },
  {
   "cell_type": "code",
   "execution_count": null,
   "metadata": {},
   "outputs": [],
   "source": [
    "normalized_tokens = ['This', 'is', 'a', 'sentence','.']\n",
    "normalized_tokens\n",
    "norm_sentence = ' '.join(normalized_tokens)\n",
    "norm_sentence"
   ]
  },
  {
   "cell_type": "markdown",
   "metadata": {},
   "source": [
    "[Go to the beginning of the notebook](#home)\n",
    "<a id=\"2a\"></a>\n",
    "### 2.a. String operations via list comprehensions\n",
    "Use list comprehensions on simple python lists"
   ]
  },
  {
   "cell_type": "code",
   "execution_count": null,
   "metadata": {},
   "outputs": [],
   "source": [
    "lst_names1 = ['peter', 'Paul', 'MARY', 'gUIDO']\n",
    "lst_names1\n",
    "[s.capitalize() for s in lst_names1]\n",
    "lst2=[name.capitalize().replace('Pe','Me') for name in lst_names1]\n",
    "lst2\n",
    "' '.join(lst2)"
   ]
  },
  {
   "cell_type": "markdown",
   "metadata": {},
   "source": [
    "This is perhaps sufficient to work with some data, <br/>\n",
    "but **it will break if there are any missing values**.<br/>\n",
    "For example:"
   ]
  },
  {
   "cell_type": "code",
   "execution_count": null,
   "metadata": {},
   "outputs": [],
   "source": [
    "lst_names2 = ['peter', 'Paul', None, 'MARY', 'gUIDO']\n",
    "[s.capitalize() for s in lst_names2]"
   ]
  },
  {
   "cell_type": "markdown",
   "metadata": {},
   "source": [
    "[Go to the beginning of the notebook](#home)\n",
    "<a id=\"nb_regexps\"></a>\n",
    "### Python regular expressions notebooks\n",
    "At this point you could go over the regular expression notebooks:\n",
    "* [regular expressions - basic notebook](Ex09_RegularExpressions.ipynb)\n",
    "* [regular expressions - advanced notebook](Ex09_RegularExpressions_adv.ipynb)"
   ]
  },
  {
   "cell_type": "markdown",
   "metadata": {},
   "source": [
    "[Go to the beginning of the notebook](#home)\n",
    "<a id=\"3a\"></a>\n",
    "### 3.a.  Pandas Series and Index objects containing strings\n",
    "Using series or index string operations is possible via via the ``str`` attribute <br/>\n",
    "So, for example, suppose we create a Pandas Series with this data:"
   ]
  },
  {
   "cell_type": "code",
   "execution_count": null,
   "metadata": {},
   "outputs": [],
   "source": [
    "import pandas as pd\n",
    "sr_names = pd.Series(lst_names2)\n",
    "sr_names"
   ]
  },
  {
   "cell_type": "markdown",
   "metadata": {},
   "source": [
    "We can now call a single method that will capitalize all the entries, while skipping over any missing values:"
   ]
  },
  {
   "cell_type": "code",
   "execution_count": null,
   "metadata": {},
   "outputs": [],
   "source": [
    "sr_names.str.upper()"
   ]
  },
  {
   "cell_type": "markdown",
   "metadata": {},
   "source": [
    "Using tab completion on this ``str`` attribute will list all the vectorized string methods available to Pandas."
   ]
  },
  {
   "cell_type": "markdown",
   "metadata": {},
   "source": [
    "[Go to the beginning of the notebook](#home)\n",
    "<a id=\"3b\"></a>\n",
    "### 3.b.  Methods similar to Python string methods\n",
    "Nearly all Python's built-in string methods are mirrored by a Pandas vectorized string method. <br/>\n",
    "Here is a list of Pandas ``str`` methods that mirror Python string methods:\n",
    "\n",
    "|             |                  |                  |                  |\n",
    "|-------------|------------------|------------------|------------------|\n",
    "|``len()``    | ``lower()``      | ``translate()``  | ``islower()``    | \n",
    "|``ljust()``  | ``upper()``      | ``startswith()`` | ``isupper()``    | \n",
    "|``rjust()``  | ``find()``       | ``endswith()``   | ``isnumeric()``  | \n",
    "|``center()`` | ``rfind()``      | ``isalnum()``    | ``isdecimal()``  | \n",
    "|``zfill()``  | ``index()``      | ``isalpha()``    | ``split()``      | \n",
    "|``strip()``  | ``rindex()``     | ``isdigit()``    | ``rsplit()``     | \n",
    "|``rstrip()`` | ``capitalize()`` | ``isspace()``    | ``partition()``  | \n",
    "|``lstrip()`` |  ``swapcase()``  |  ``istitle()``   | ``rpartition()`` |\n",
    "\n",
    "Notice that these have various return values. Some, like ``lower()``, return a series of strings:"
   ]
  },
  {
   "cell_type": "markdown",
   "metadata": {},
   "source": [
    "[Go to the beginning of the notebook](#home)\n",
    "<a id=\"3c\"></a>\n",
    "#### 3.c.  Using Pandas String Methods\n",
    "Pandas string syntax is similar to basic python string operations\n",
    "The examples in this section use the following series of names:"
   ]
  },
  {
   "cell_type": "code",
   "execution_count": null,
   "metadata": {},
   "outputs": [],
   "source": [
    "monte = pd.Series(['Graham Chapman', 'John Cleese', 'Terry Gilliam',\n",
    "                   'Eric Idle', 'Terry Jones', 'Michael Palin'])\n",
    "monte"
   ]
  },
  {
   "cell_type": "code",
   "execution_count": null,
   "metadata": {},
   "outputs": [],
   "source": [
    "monte.str.lower()"
   ]
  },
  {
   "cell_type": "markdown",
   "metadata": {},
   "source": [
    "But some others return numbers:"
   ]
  },
  {
   "cell_type": "code",
   "execution_count": null,
   "metadata": {},
   "outputs": [],
   "source": [
    "monte.str.len()"
   ]
  },
  {
   "cell_type": "markdown",
   "metadata": {},
   "source": [
    "Or Boolean values:"
   ]
  },
  {
   "cell_type": "code",
   "execution_count": null,
   "metadata": {},
   "outputs": [],
   "source": [
    "monte.str.startswith('Terry')"
   ]
  },
  {
   "cell_type": "markdown",
   "metadata": {},
   "source": [
    "Still others return lists or other compound values for each element:"
   ]
  },
  {
   "cell_type": "code",
   "execution_count": null,
   "metadata": {},
   "outputs": [],
   "source": [
    "s2 = monte.str.lower().str.split()\n",
    "s2"
   ]
  },
  {
   "cell_type": "code",
   "execution_count": null,
   "metadata": {},
   "outputs": [],
   "source": [
    "monte.str.split(\"e\")"
   ]
  },
  {
   "cell_type": "markdown",
   "metadata": {},
   "source": [
    "We'll see further manipulations of this kind of series-of-lists object as we continue our discussion."
   ]
  },
  {
   "cell_type": "markdown",
   "metadata": {},
   "source": [
    "[Go to the beginning of the notebook](#home)\n",
    "<a id=\"3d\"></a>\n",
    "#### 3.d.  Series string methods with regular expressions\n",
    "\n",
    "In addition, there are several methods that accept regular expressions to examine the content of each string element, <br/>\n",
    "and follow some of the API conventions of Python's built-in ``re`` module:\n",
    "\n",
    "| Method | Description |\n",
    "|--------|-------------|\n",
    "| ``match()`` | Call ``re.match()`` on each element, returning a boolean. |\n",
    "| ``extract()`` | Call ``re.match()`` on each element, returning matched groups as strings.|\n",
    "| ``findall()`` | Call ``re.findall()`` on each element |\n",
    "| ``replace()`` | Replace occurrences of pattern with some other string|\n",
    "| ``contains()`` | Call ``re.search()`` on each element, returning a boolean |\n",
    "| ``count()`` | Count occurrences of pattern|\n",
    "| ``split()``   | Equivalent to ``str.split()``, but accepts regexps |\n",
    "| ``rsplit()`` | Equivalent to ``str.rsplit()``, but accepts regexps |"
   ]
  },
  {
   "cell_type": "markdown",
   "metadata": {},
   "source": [
    "With these, you can do a wide range of interesting operations.<br/>\n",
    "For example, we can extract the first name from each by asking for a contiguous group of characters at the beginning of each element:"
   ]
  },
  {
   "cell_type": "code",
   "execution_count": null,
   "metadata": {},
   "outputs": [],
   "source": [
    "monte\n",
    "monte.str.extract('([A-Za-z]+)', expand=False)"
   ]
  },
  {
   "cell_type": "code",
   "execution_count": null,
   "metadata": {},
   "outputs": [],
   "source": [
    "monte.str.extract('([a-z]+)', expand=False)"
   ]
  },
  {
   "cell_type": "markdown",
   "metadata": {},
   "source": [
    "Or we can do something more complicated, like finding all names that start and end with a consonant, <br/>\n",
    "making use of the start-of-string (``^``) and end-of-string (``$``) regular expression characters:"
   ]
  },
  {
   "cell_type": "code",
   "execution_count": null,
   "metadata": {},
   "outputs": [],
   "source": [
    "monte"
   ]
  },
  {
   "cell_type": "code",
   "execution_count": null,
   "metadata": {},
   "outputs": [],
   "source": [
    "monte.str.findall(r'^[^AEIOU].*[^aeiou]$')"
   ]
  },
  {
   "cell_type": "code",
   "execution_count": null,
   "metadata": {},
   "outputs": [],
   "source": [
    "monte.str.findall(r'[^AEIOU]\\w+[^aeiou]')"
   ]
  },
  {
   "cell_type": "markdown",
   "metadata": {},
   "source": [
    "The ability to concisely apply regular expressions across ``Series`` or ``Dataframe`` entries <br/>\n",
    "opens up many possibilities for analysis and cleaning of data."
   ]
  },
  {
   "cell_type": "markdown",
   "metadata": {},
   "source": [
    "[Go to the beginning of the notebook](#home)\n",
    "<a id=\"3e\"></a>\n",
    "#### 3.e. Series  miscellaneous string methods\n",
    "Finally, there are some miscellaneous methods that enable other convenient operations:\n",
    "\n",
    "| Method | Description |\n",
    "|--------|-------------|\n",
    "| ``get()`` | Index each element |\n",
    "| ``slice()`` | Slice each element|\n",
    "| ``slice_replace()`` | Replace slice in each element with passed value|\n",
    "| ``cat()``      | Concatenate strings|\n",
    "| ``repeat()`` | Repeat values |\n",
    "| ``normalize()`` | Return Unicode form of string |\n",
    "| ``pad()`` | Add whitespace to left, right, or both sides of strings|\n",
    "| ``wrap()`` | Split long strings into lines with length less than a given width|\n",
    "| ``join()`` | Join strings in each element of the Series with passed separator|\n",
    "| ``get_dummies()`` | extract dummy variables as a dataframe |"
   ]
  },
  {
   "cell_type": "markdown",
   "metadata": {},
   "source": [
    "[Go to the beginning of the notebook](#home)\n",
    "<a id=\"3f\"></a>\n",
    "#### 3.f. Series item access and slicing\n",
    "\n",
    "The ``get()`` and ``slice()`` operations, in particular, enable a pandas element access from each array.<br/>\n",
    "For example, we can get a slice of the first three characters of each array using ``str.slice(0, 3)``.<br/>\n",
    "Note that this behavior is also available through Python's normal indexing syntax–for example, <br/>\n",
    "``df.str.slice(0, 3)`` is equivalent to ``df.str[0:3]``:"
   ]
  },
  {
   "cell_type": "code",
   "execution_count": null,
   "metadata": {},
   "outputs": [],
   "source": [
    "monte.str[0:3]"
   ]
  },
  {
   "cell_type": "markdown",
   "metadata": {},
   "source": [
    "Indexing via ``df.str.get(i)`` and ``df.str[i]`` is likewise similar.\n",
    "\n",
    "These ``get()`` and ``slice()`` methods also let you access elements of arrays returned by ``split()``.<br/>\n",
    "For example, to extract the last name of each entry, we can combine ``split()`` and ``get()``:"
   ]
  },
  {
   "cell_type": "code",
   "execution_count": null,
   "metadata": {},
   "outputs": [],
   "source": [
    "monte.str.split().str.get(-1)"
   ]
  },
  {
   "cell_type": "markdown",
   "metadata": {},
   "source": [
    "[Go to the beginning of the notebook](#home)\n",
    "<a id=\"3g\"></a>\n",
    "#### 3.g. Indicator variables\n",
    "\n",
    "Another method that requires a bit of extra explanation is the ``get_dummies()`` method.<br/>\n",
    "This is useful when your data has a column containing some sort of coded indicator.<br/>\n",
    "For example, we might have a dataset that contains information in the form of codes, such as <br/>\n",
    "    A=\"born in America,\" B=\"born in the United Kingdom,\" C=\"likes cheese,\" D=\"likes spam\":"
   ]
  },
  {
   "cell_type": "code",
   "execution_count": null,
   "metadata": {},
   "outputs": [],
   "source": [
    "full_monte = pd.DataFrame({'name': monte,\n",
    "                           'info': ['B|C|D', 'B|D', 'A|C',\n",
    "                                    'B|D', 'B|C', 'B|C|D']})\n",
    "full_monte"
   ]
  },
  {
   "cell_type": "markdown",
   "metadata": {},
   "source": [
    "The ``get_dummies()`` routine lets you quickly split-out these indicator variables into a ``DataFrame``:"
   ]
  },
  {
   "cell_type": "code",
   "execution_count": null,
   "metadata": {},
   "outputs": [],
   "source": [
    "full_monte['info'].str.get_dummies('|')"
   ]
  },
  {
   "cell_type": "markdown",
   "metadata": {},
   "source": [
    "With these operations as building blocks, you can construct an endless range of string processing procedures when cleaning your data.\n",
    "\n",
    "We won't dive further into these methods here, but I encourage you to read through [\"Working with Text Data\"](http://pandas.pydata.org/pandas-docs/stable/text.html) in the Pandas online documentation."
   ]
  }
 ],
 "metadata": {
  "anaconda-cloud": {},
  "kernelspec": {
   "display_name": "Python 3",
   "language": "python",
   "name": "python3"
  },
  "language_info": {
   "codemirror_mode": {
    "name": "ipython",
    "version": 3
   },
   "file_extension": ".py",
   "mimetype": "text/x-python",
   "name": "python",
   "nbconvert_exporter": "python",
   "pygments_lexer": "ipython3",
   "version": "3.8.8"
  }
 },
 "nbformat": 4,
 "nbformat_minor": 1
}
