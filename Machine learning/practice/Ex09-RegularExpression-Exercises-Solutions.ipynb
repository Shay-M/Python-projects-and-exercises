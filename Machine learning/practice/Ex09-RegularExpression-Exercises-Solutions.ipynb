{
 "cells": [
  {
   "cell_type": "markdown",
   "metadata": {},
   "source": [
    "## Regular Expression Exercises (not mandatory)"
   ]
  },
  {
   "cell_type": "markdown",
   "metadata": {},
   "source": [
    "## Useful tool\n",
    "In some cases, one is looking for a RefExp debugger. <br/>\n",
    "It's not that easy, but [this](https://regex101.com/) can be useful in some of those cases."
   ]
  },
  {
   "cell_type": "markdown",
   "metadata": {},
   "source": [
    "### Exercise 1:\n",
    "Write a regular expression to extract all time expressions in the txt string."
   ]
  },
  {
   "cell_type": "code",
   "execution_count": null,
   "metadata": {},
   "outputs": [],
   "source": [
    "txt=\"\"\"\n",
    "\n",
    "name: Dina Ivry\n",
    "email: dimai@gmail.com\n",
    "time: 2020-11-02 11:32:11\n",
    "phone: +972-3-52-3434233\n",
    "city: Tel-aviv\n",
    "title: knn  \n",
    "content: can you explain what does the k hyper-parameter mean???\n",
    "\n",
    "==============\n",
    "name: Joseph Katzir\n",
    "email: joek@myemail.ac.il\n",
    "time: 2020-12-20 13:34:02\n",
    "phone: (054) 5444443\n",
    "city: Tel aviv\n",
    "title: what a great lecture   \n",
    "content: avinoam this was one of your best\n",
    "\n",
    "=============\n",
    "\n",
    "\"\"\""
   ]
  },
  {
   "cell_type": "code",
   "execution_count": null,
   "metadata": {},
   "outputs": [],
   "source": [
    "### solution:\n",
    "# find all dates in format yyyy-mm-dd\n",
    "date_pattern=r'\\d\\d:\\d\\d'\n",
    "\n",
    "# Returns a list of all matches\n",
    "re.findall(date_pattern,txt)"
   ]
  },
  {
   "cell_type": "markdown",
   "metadata": {},
   "source": [
    "## Exercise 2:\n",
    "There are 2 cloud providers. Each of them provides the users with a url access to its machine. <br/>\n",
    "The access to a cloud computer from vendor1 (mycloud1) is given by the following sample url:\n",
    "\n",
    "\n",
    "`cloudmachine-192-456-345-456.compute.mycloud.com`\n",
    "\n",
    "And the access of a cloud computer from vendor2 (mycloud2) is given by this sample url:\n",
    "\n",
    "\n",
    "`myvm-192.456.345.456.mycloud2.com`\n",
    "\n",
    "In this example, the part `192-123-134-145` or `192.456.345.456` represents the IP address of the computer. <br/>\n",
    "All IP addresses have 4 parts, each number is 3 digits (actually also lower than 256). <br/>\n",
    "For this exercise, you can assume that all numbers are represented using 3 digits (even the ones lower than 100). \n",
    "\n",
    "Your task is first to extract the IP address from such a url, and then return it as a list of 4 numbers."
   ]
  },
  {
   "cell_type": "code",
   "execution_count": null,
   "metadata": {},
   "outputs": [],
   "source": [
    "### solution:\n",
    "u1='cloudmachine-192-456-345-456.compute.mycloud.com'\n",
    "u2='myvm-192.456.345.456.mycloud2.com'\n",
    "u3=\"\"  # add your testing urls here\n",
    "u4=\"\"  # add your testing urls here\n",
    "urls=[u1,u2,u3,u4]\n",
    "\n",
    "pattern=\"\\d\\d\\d[\\.-]\\d\\d\\d[\\.-]\\d\\d\\d[\\.-]\\d\\d\\d\"\n",
    "\n",
    "for url in urls:\n",
    "    m=re.search(pattern,url)\n",
    "    if(m):\n",
    "        splitUrl=re.split(\"[\\.-]\",m.group(0))\n",
    "        print(\"url is: {} and its parts are:\".format(url),splitUrl)"
   ]
  },
  {
   "cell_type": "markdown",
   "metadata": {},
   "source": [
    "## Exercise 3:\n",
    "Write a regular expression to extract urls from text (including the http or https prefix)"
   ]
  },
  {
   "cell_type": "code",
   "execution_count": null,
   "metadata": {},
   "outputs": [],
   "source": [
    "### solution:\n",
    "u1='My favorite site is http://www.campus.gov.il/datascience I go there every day.'\n",
    "u2='Please post your answer to the form https://www.feedback.com/review_forms/form1.aspx'\n",
    "u3=\"I visited https://edition.cnn-news.co.il/sports/nba/games-standing.html\"  \n",
    "u4=\"\"  # add your testing urls here\n",
    "urls=[u1,u2,u3,u4]\n",
    "\n",
    "pattern=\"https?://[\\w-]+\\.([\\w-]+\\.)+(/?[\\w\\.\\-\\_]+)*\"\n",
    "\n",
    "for url in urls:\n",
    "    m=re.search(pattern,url)\n",
    "    if(m):\n",
    "        print(m.group(0))"
   ]
  },
  {
   "cell_type": "markdown",
   "metadata": {},
   "source": [
    "## Exercise 4:\n",
    "Write a regular expression to extract links that appear as part of an \"<a href..\" html tag. General synatx for an href tag is:\n",
    "\n",
    "```html\n",
    "this is a '<a href=\"./index.html\" ...>link</a> to some page\n",
    "```\n",
    "\n",
    "(**Hint:** correct answer should have 2 urls..)"
   ]
  },
  {
   "cell_type": "code",
   "execution_count": null,
   "metadata": {},
   "outputs": [],
   "source": [
    "html_example=\"\"\"\n",
    "<div class=\"el__leafmedia el__leafmedia--sourced-paragraph\"><p class=\"zn-body__paragraph speakable\"><cite class=\"el-editorial-source\"> (CNN)</cite><a href=\"https://edition.cnn.com/sport/motorsport\" target=\"_blank\">Formula One</a> driver <a href=\"https://edition.cnn.com/2020/12/12/motorsport/lewis-hamilton-coronavirus-abu-dhabi-spt-intl/index.html\" target=\"_blank\">Lewis Hamilton</a> capped a remarkable year on and off the track after he was awarded a knighthood in the UK's New Year's Honours List which was announced on Wednesday.</p></div>\n",
    "\"\"\""
   ]
  },
  {
   "cell_type": "code",
   "execution_count": null,
   "metadata": {},
   "outputs": [],
   "source": [
    "### solution:\n",
    "pattern=\"<a href=\\\"(.*?)\\\"\"\n",
    "re.findall(pattern, html_example)"
   ]
  }
 ],
 "metadata": {
  "kernelspec": {
   "display_name": "Python 3",
   "language": "python",
   "name": "python3"
  },
  "language_info": {
   "codemirror_mode": {
    "name": "ipython",
    "version": 3
   },
   "file_extension": ".py",
   "mimetype": "text/x-python",
   "name": "python",
   "nbconvert_exporter": "python",
   "pygments_lexer": "ipython3",
   "version": "3.8.8"
  }
 },
 "nbformat": 4,
 "nbformat_minor": 4
}
